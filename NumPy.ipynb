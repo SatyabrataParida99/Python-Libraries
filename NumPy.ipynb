{
 "cells": [
  {
   "cell_type": "markdown",
   "id": "11e0ff97-93de-430c-9c51-f12fe432a766",
   "metadata": {},
   "source": [
    "<img src=\"https://encrypted-tbn0.gstatic.com/images?q=tbn:ANd9GcSMrTWz33b86nfIrgaW9jE_t-7VCcqJtjL-pg&amp;s\" class=\"sFlh5c FyHeAf\" alt=\"GitHub - numpy/numpy: The fundamental package for scientific computing with  Python.\" jsname=\"JuXqh\" style=\"max-width: 800px; height: 157px; margin: 0px; width: 349px;\" data-ilt=\"1738124867915\">"
   ]
  },
  {
   "cell_type": "markdown",
   "id": "3e56adf8-6635-4a79-bee9-adb597bb0b88",
   "metadata": {},
   "source": [
    "<img src=\"https://decodingdatascience.com/wp-content/uploads/2023/10/numpy1.png\" jsaction=\"\" class=\"sFlh5c FyHeAf iPVvYb\" style=\"max-width: 743px; height: 244px; margin: 0px; width: 351px;\" alt=\"Numpy: The Foundation of Data Science and AI - Decoding Data Science\" jsname=\"kn3ccd\" aria-hidden=\"false\">"
   ]
  },
  {
   "cell_type": "markdown",
   "id": "99eaae9c-0c4c-4b80-b3af-9d5287533317",
   "metadata": {},
   "source": [
    "- NumPy is a Python library for numerical computing that provides efficient array operations, mathematical functions, and matrix manipulations, making it essential for data science and scientific computing."
   ]
  },
  {
   "cell_type": "markdown",
   "id": "40f4ac7f-e999-41a6-ae4a-d1eb3b07db05",
   "metadata": {},
   "source": [
    "- **NumPy: Numerical Python**\n",
    "\n",
    "- NumPy is a powerful module for performing mathematical operations efficiently.\n",
    "\n",
    "- While the **math** module provides basic mathematical functions, **NumPy** offers enhanced capabilities.\n",
    "\n",
    "- With NumPy, complex mathematical computations can be performed with ease.\n",
    "\n",
    "- It allows representing numbers in various forms:\n",
    "\n",
    "   - **Lists:** Basic level representation of elements.\n",
    "   - **Arrays:** A fundamental structure in the NumPy package.\n",
    "   - **Tensors:** Used in deep learning frameworks like TensorFlow.\n",
    "   - **Torch:** Utilized in the PyTorch library for advanced computations.\n"
   ]
  },
  {
   "cell_type": "code",
   "execution_count": 1,
   "id": "2912ec8b-c513-42b5-87a1-4e0f3e61cac5",
   "metadata": {},
   "outputs": [],
   "source": [
    "import numpy as np"
   ]
  },
  {
   "cell_type": "code",
   "execution_count": 3,
   "id": "e9665199-86e2-48cb-a878-5fe48506afc7",
   "metadata": {},
   "outputs": [
    {
     "data": {
      "text/plain": [
       "'1.26.4'"
      ]
     },
     "execution_count": 3,
     "metadata": {},
     "output_type": "execute_result"
    }
   ],
   "source": [
    "np.__version__"
   ]
  },
  {
   "cell_type": "code",
   "execution_count": 5,
   "id": "035a4027-3c2e-4cbd-a58a-1fdcda662fda",
   "metadata": {},
   "outputs": [
    {
     "data": {
      "text/plain": [
       "array([1, 2, 3, 4])"
      ]
     },
     "execution_count": 5,
     "metadata": {},
     "output_type": "execute_result"
    }
   ],
   "source": [
    "l1=[1,2,3,4]\n",
    "arr1=np.array(l1)\n",
    "arr1"
   ]
  },
  {
   "cell_type": "code",
   "execution_count": 7,
   "id": "d789ea02-72a2-41bd-ab9f-b6f09afca468",
   "metadata": {},
   "outputs": [
    {
     "data": {
      "text/plain": [
       "list"
      ]
     },
     "execution_count": 7,
     "metadata": {},
     "output_type": "execute_result"
    }
   ],
   "source": [
    "type(l1)"
   ]
  },
  {
   "cell_type": "code",
   "execution_count": 9,
   "id": "8d2e1248-dede-4028-a466-0308db7ef33d",
   "metadata": {},
   "outputs": [
    {
     "data": {
      "text/plain": [
       "numpy.ndarray"
      ]
     },
     "execution_count": 9,
     "metadata": {},
     "output_type": "execute_result"
    }
   ],
   "source": [
    "type(arr1) # ndarray == n dimensional array"
   ]
  },
  {
   "cell_type": "code",
   "execution_count": 11,
   "id": "6f6b8604-5cc9-4f75-9f95-ee73c85936c6",
   "metadata": {},
   "outputs": [
    {
     "data": {
      "text/plain": [
       "[20, 60, 120, 200]"
      ]
     },
     "execution_count": 11,
     "metadata": {},
     "output_type": "execute_result"
    }
   ],
   "source": [
    "l1=[1,2,3,4]\n",
    "l2=[20,30,40,50]\n",
    "[i*j for i,j in zip(l1,l2)]"
   ]
  },
  {
   "cell_type": "code",
   "execution_count": 13,
   "id": "178defc6-0ec4-4a02-bcee-75a464c7ff49",
   "metadata": {},
   "outputs": [
    {
     "data": {
      "text/plain": [
       "array([ 10,  40,  90, 160])"
      ]
     },
     "execution_count": 13,
     "metadata": {},
     "output_type": "execute_result"
    }
   ],
   "source": [
    "arr1=np.array([1,2,3,4])\n",
    "arr2=np.array([10,20,30,40])\n",
    "arr1*arr2"
   ]
  },
  {
   "cell_type": "code",
   "execution_count": 15,
   "id": "33b8b74e-a0c0-4ee8-a1e4-f08364f22ce3",
   "metadata": {},
   "outputs": [
    {
     "data": {
      "text/plain": [
       "array([ 9, 18, 27, 36])"
      ]
     },
     "execution_count": 15,
     "metadata": {},
     "output_type": "execute_result"
    }
   ],
   "source": [
    "arr2-arr1"
   ]
  },
  {
   "cell_type": "code",
   "execution_count": 17,
   "id": "8daad8e4-57f9-44cd-b81b-30f36e35ea56",
   "metadata": {},
   "outputs": [
    {
     "data": {
      "text/plain": [
       "array([11, 22, 33, 44])"
      ]
     },
     "execution_count": 17,
     "metadata": {},
     "output_type": "execute_result"
    }
   ],
   "source": [
    "arr2+arr1"
   ]
  },
  {
   "cell_type": "code",
   "execution_count": 19,
   "id": "8afaee3c-fcf9-4253-b6e4-d1b90c858a78",
   "metadata": {},
   "outputs": [
    {
     "data": {
      "text/plain": [
       "array([0.1, 0.1, 0.1, 0.1])"
      ]
     },
     "execution_count": 19,
     "metadata": {},
     "output_type": "execute_result"
    }
   ],
   "source": [
    "arr1/arr2"
   ]
  },
  {
   "cell_type": "code",
   "execution_count": 21,
   "id": "727c02ea-fb0b-4beb-9702-a0272ec86a82",
   "metadata": {},
   "outputs": [
    {
     "data": {
      "text/plain": [
       "array([ -9, -18, -27, -36])"
      ]
     },
     "execution_count": 21,
     "metadata": {},
     "output_type": "execute_result"
    }
   ],
   "source": [
    "arr1-arr2"
   ]
  },
  {
   "cell_type": "code",
   "execution_count": 23,
   "id": "9b211eb8-3663-4533-bfd0-9f7a13576d81",
   "metadata": {},
   "outputs": [
    {
     "data": {
      "text/plain": [
       "[10, 40, 90, 160]"
      ]
     },
     "execution_count": 23,
     "metadata": {},
     "output_type": "execute_result"
    }
   ],
   "source": [
    "op=arr1*arr2\n",
    "list(op)"
   ]
  },
  {
   "cell_type": "code",
   "execution_count": 25,
   "id": "eccda846-c46d-42ac-8beb-022208ded3bf",
   "metadata": {},
   "outputs": [
    {
     "data": {
      "text/plain": [
       "[10, 40, 90, 160]"
      ]
     },
     "execution_count": 25,
     "metadata": {},
     "output_type": "execute_result"
    }
   ],
   "source": [
    "op.tolist()"
   ]
  },
  {
   "cell_type": "markdown",
   "id": "7a21e7a4-7440-43b0-ac67-e307a64bad4b",
   "metadata": {},
   "source": [
    "**NumPy always performs operations element-wise**"
   ]
  },
  {
   "cell_type": "markdown",
   "id": "dfa5142c-e9ff-467a-8931-40c31bcf7c9d",
   "metadata": {},
   "source": [
    "**Use case-2**\n",
    "\n",
    "   - NumPy offers significantly lower processing time compared to lists."
   ]
  },
  {
   "cell_type": "code",
   "execution_count": 29,
   "id": "f16863ab-2e42-44e9-9d89-59b948e3bb6e",
   "metadata": {},
   "outputs": [
    {
     "name": "stdout",
     "output_type": "stream",
     "text": [
      "Time taken: 12.369544982910156\n"
     ]
    }
   ],
   "source": [
    "import time  \n",
    "\n",
    "# Creating two large ranges of numbers  \n",
    "l1 = range(1, 100000000)  \n",
    "l2 = range(1, 100000000)  \n",
    "\n",
    "# Recording the start time  \n",
    "start = time.time()  \n",
    "\n",
    "# Iterating over both lists using zip (element-wise operation)  \n",
    "for i, j in zip(l1, l2):  \n",
    "    pass  # No operation is performed, just iterating  \n",
    "\n",
    "# Recording the end time  \n",
    "end = time.time()  \n",
    "\n",
    "# Printing the total time taken for iteration  \n",
    "print(\"Time taken:\", end-start)  \n"
   ]
  },
  {
   "cell_type": "code",
   "execution_count": 30,
   "id": "e466e51c-f81d-4bf6-8c0d-75b8c5cbeec5",
   "metadata": {},
   "outputs": [
    {
     "name": "stdout",
     "output_type": "stream",
     "text": [
      "1 2 3 4 5 6 7 8 9 "
     ]
    }
   ],
   "source": [
    "l=range(1,10)\n",
    "for i in l:\n",
    "    print(i,end=' ')"
   ]
  },
  {
   "cell_type": "code",
   "execution_count": 35,
   "id": "5bb1e9f9-e9a3-439d-9b8f-5d58d7bce929",
   "metadata": {},
   "outputs": [
    {
     "name": "stdout",
     "output_type": "stream",
     "text": [
      "Time taken: 16.67451524734497 seconds\n"
     ]
    }
   ],
   "source": [
    "import time\n",
    "\n",
    "# Define two large ranges of numbers\n",
    "l1 = range(1, 100000000)\n",
    "l2 = range(1, 100000000)\n",
    "\n",
    "# Record the start time\n",
    "start = time.time()\n",
    "\n",
    "# Perform element-wise multiplication of l1 and l2 using list comprehension\n",
    "result = [i * j for i, j in zip(l1, l2)]\n",
    "\n",
    "# Record the end time\n",
    "end = time.time()\n",
    "\n",
    "# Calculate and print the time taken for the operation\n",
    "time_taken = end - start\n",
    "print(f\"Time taken: {time_taken} seconds\")\n"
   ]
  },
  {
   "cell_type": "markdown",
   "id": "9031adde-38ba-485d-ae6f-e6341231dce5",
   "metadata": {},
   "source": [
    "**arange**\n",
    "  - arange is same like range"
   ]
  },
  {
   "cell_type": "code",
   "execution_count": 38,
   "id": "75227eed-f7c7-44f8-8be8-722dfc393f2d",
   "metadata": {},
   "outputs": [
    {
     "data": {
      "text/plain": [
       "array([1, 2, 3, 4, 5, 6, 7, 8, 9])"
      ]
     },
     "execution_count": 38,
     "metadata": {},
     "output_type": "execute_result"
    }
   ],
   "source": [
    "np.arange(1,10)"
   ]
  },
  {
   "cell_type": "code",
   "execution_count": 40,
   "id": "9182adf2-e825-4999-90bc-7570485a4f91",
   "metadata": {},
   "outputs": [
    {
     "name": "stdout",
     "output_type": "stream",
     "text": [
      "time taken: 0.7163853645324707\n"
     ]
    }
   ],
   "source": [
    "import time\n",
    "arr1=np.arange(1,100000000)\n",
    "arr2=np.arange(1,100000000)\n",
    "start=time.time()\n",
    "arr1*arr2\n",
    "end=time.time()\n",
    "print(\"time taken:\",end-start)"
   ]
  },
  {
   "cell_type": "markdown",
   "id": "5102a1ef-afb8-4bd9-b93a-c01b7188b17a",
   "metadata": {},
   "source": [
    "**Shape dimension**\n",
    "  - **Shape:** A tuple representing the number of elements in each axis (e.g., (3, 4) means 3 rows and 4 columns).\n",
    "  - **Dimension (ndim):** The number of axes in the array (e.g., a 2D array has ndim = 2)."
   ]
  },
  {
   "cell_type": "code",
   "execution_count": 43,
   "id": "5e1a6cb3-43b7-4b55-98f5-c48f18137e54",
   "metadata": {},
   "outputs": [
    {
     "name": "stdout",
     "output_type": "stream",
     "text": [
      "(2, 3)\n",
      "2\n"
     ]
    }
   ],
   "source": [
    "arr = np.array([[1, 2, 3], [4, 5, 6]])  \n",
    "print(arr.shape)  # Output: (2, 3)  \n",
    "print(arr.ndim)   # Output: 2  \n"
   ]
  },
  {
   "cell_type": "code",
   "execution_count": 45,
   "id": "204d3781-94cb-4073-a3a6-227603bef4f8",
   "metadata": {},
   "outputs": [
    {
     "data": {
      "text/plain": [
       "(99999999,)"
      ]
     },
     "execution_count": 45,
     "metadata": {},
     "output_type": "execute_result"
    }
   ],
   "source": [
    "arr1.shape"
   ]
  },
  {
   "cell_type": "markdown",
   "id": "94e4bcbd-8ff2-4cfe-8aa0-affda84ff66e",
   "metadata": {},
   "source": [
    "- **A 1D array (one-dimensional array)** in NumPy is a simple array with a single axis."
   ]
  },
  {
   "cell_type": "code",
   "execution_count": 48,
   "id": "36a1fc85-57be-4a34-ab33-3857d2d4decc",
   "metadata": {},
   "outputs": [
    {
     "data": {
      "text/plain": [
       "1"
      ]
     },
     "execution_count": 48,
     "metadata": {},
     "output_type": "execute_result"
    }
   ],
   "source": [
    "arr1.ndim"
   ]
  },
  {
   "cell_type": "code",
   "execution_count": 50,
   "id": "9642731e-9d66-48ca-b649-c6f6aef0926c",
   "metadata": {},
   "outputs": [
    {
     "data": {
      "text/plain": [
       "99999999"
      ]
     },
     "execution_count": 50,
     "metadata": {},
     "output_type": "execute_result"
    }
   ],
   "source": [
    "arr1.size"
   ]
  },
  {
   "cell_type": "markdown",
   "id": "8fc1a385-a2ec-4303-a4b8-7a168cb5d4a6",
   "metadata": {},
   "source": [
    "- A **2D array (two-dimensional array)** in NumPy is an array with two axes (rows and columns)."
   ]
  },
  {
   "cell_type": "code",
   "execution_count": 53,
   "id": "6444d217-da9a-4b28-8fbd-23922d6cfc74",
   "metadata": {},
   "outputs": [
    {
     "name": "stdout",
     "output_type": "stream",
     "text": [
      "shape: (2, 4)\n",
      "dim: 2\n",
      "number of elements: 8\n"
     ]
    }
   ],
   "source": [
    "l1=[1,2,3,4]\n",
    "l2=['A','B','C','D']\n",
    "\n",
    "arr1=np.array([l1,l2])\n",
    "print(\"shape:\",arr1.shape)\n",
    "print(\"dim:\",arr1.ndim)\n",
    "print(\"number of elements:\",arr1.size)"
   ]
  },
  {
   "cell_type": "code",
   "execution_count": 55,
   "id": "50a1b2ba-bc98-49ff-9c12-7ca6c0c67f40",
   "metadata": {},
   "outputs": [
    {
     "name": "stdout",
     "output_type": "stream",
     "text": [
      "shape: (2, 4)\n",
      "dim: 2\n",
      "number of elements: 8\n"
     ]
    }
   ],
   "source": [
    "arr1=np.array([[1,2,3,4],\n",
    "               ['A','B','C','D']\n",
    "              ])\n",
    "print(\"shape:\",arr1.shape)\n",
    "print(\"dim:\",arr1.ndim)\n",
    "print(\"number of elements:\",arr1.size)"
   ]
  },
  {
   "cell_type": "code",
   "execution_count": 57,
   "id": "328bb070-c26f-4bba-b220-520c56afbf90",
   "metadata": {},
   "outputs": [
    {
     "data": {
      "text/plain": [
       "(4, 2)"
      ]
     },
     "execution_count": 57,
     "metadata": {},
     "output_type": "execute_result"
    }
   ],
   "source": [
    "L1=[(1,'A'),\n",
    "    (2,'B'),\n",
    "    (3,'C'),\n",
    "    (4,'D')]\n",
    "\n",
    "np.array(L1).shape"
   ]
  },
  {
   "cell_type": "code",
   "execution_count": 59,
   "id": "cf402d1d-b1c2-4cd8-a901-04ccfce8a10e",
   "metadata": {},
   "outputs": [
    {
     "data": {
      "text/plain": [
       "(2, 4)"
      ]
     },
     "execution_count": 59,
     "metadata": {},
     "output_type": "execute_result"
    }
   ],
   "source": [
    "arr1.shape"
   ]
  },
  {
   "cell_type": "code",
   "execution_count": 61,
   "id": "f42af3f1-4492-44d9-bdf9-c2b92f16c2a1",
   "metadata": {},
   "outputs": [
    {
     "data": {
      "text/plain": [
       "array([['1', '2', '3', '4'],\n",
       "       ['A', 'B', 'C', 'D'],\n",
       "       ['5', '6', '7', '8'],\n",
       "       ['E', 'F', 'G', 'H']], dtype='<U11')"
      ]
     },
     "execution_count": 61,
     "metadata": {},
     "output_type": "execute_result"
    }
   ],
   "source": [
    "np.array([\n",
    "          [1,2,3,4],\n",
    "          ['A','B','C','D'],\n",
    "          [5,6,7,8],\n",
    "          ['E','F','G','H']\n",
    "])"
   ]
  },
  {
   "cell_type": "markdown",
   "id": "eeb1f809-31c5-440c-a125-2d20556e2ef9",
   "metadata": {},
   "source": [
    "**Difference Between Shape and Dim in NumPy**"
   ]
  },
  {
   "cell_type": "markdown",
   "id": "50faa1b4-9c4d-48f1-a547-3b44868a50de",
   "metadata": {},
   "source": [
    "- **Shape** refers to the structure of an array, specifically the number of rows and columns.\n",
    "\n",
    "- A **1D array** has only one axis (i.e., a single row), hence it is considered one-dimensional.\n",
    "\n",
    "- A **2D array** consists of both rows and columns, making it two-dimensional.\n",
    "\n",
    "- While the number of rows and columns may vary, the shape focuses on the arrangement of the array in terms of rows and columns.\n",
    "\n",
    "- The **dimension (dim)** of an array is always represented as the length of its shape.\n",
    "\n",
    "- The **shape** is represented as a tuple (e.g., (m, n)), where:\n",
    "\n",
    "    - m is the number of rows,\n",
    "    - n is the number of columns.\n",
    "- **Size** refers to the total number of elements in the array."
   ]
  },
  {
   "cell_type": "markdown",
   "id": "15eb544d-f65c-40d0-9db1-3e7f18dc3975",
   "metadata": {},
   "source": [
    "A **3D array (three-dimensional array)** in NumPy is an array with three axes: rows, columns, and depth (or layers). This is commonly used to represent data in multiple dimensions, such as images (height, width, color channels) or volumetric data."
   ]
  },
  {
   "cell_type": "code",
   "execution_count": 66,
   "id": "cc0e8d83-1e07-4463-b861-6118c9afe845",
   "metadata": {},
   "outputs": [
    {
     "data": {
      "text/plain": [
       "array([['1', '2', '3'],\n",
       "       ['A', 'B', 'C']], dtype='<U11')"
      ]
     },
     "execution_count": 66,
     "metadata": {},
     "output_type": "execute_result"
    }
   ],
   "source": [
    "np.array([[1,2,3],['A','B','C']])"
   ]
  },
  {
   "cell_type": "code",
   "execution_count": 68,
   "id": "47dcc697-8ef4-408a-baf4-72654c9d8b10",
   "metadata": {},
   "outputs": [],
   "source": [
    "l=[\n",
    " [[1,2,3],\n",
    " ['A','B','C']],\n",
    "\n",
    "[[1,2,3],\n",
    " ['A','B','C']],\n",
    "\n",
    "[[1,2,3],\n",
    " ['A','B','C']]\n",
    "\n",
    "]"
   ]
  },
  {
   "cell_type": "code",
   "execution_count": 70,
   "id": "627c394d-03f0-4ed3-9704-70100ca8a7ac",
   "metadata": {},
   "outputs": [
    {
     "data": {
      "text/plain": [
       "array([[['1', '2', '3'],\n",
       "        ['A', 'B', 'C']],\n",
       "\n",
       "       [['1', '2', '3'],\n",
       "        ['A', 'B', 'C']],\n",
       "\n",
       "       [['1', '2', '3'],\n",
       "        ['A', 'B', 'C']]], dtype='<U11')"
      ]
     },
     "execution_count": 70,
     "metadata": {},
     "output_type": "execute_result"
    }
   ],
   "source": [
    "np.array(l)"
   ]
  },
  {
   "cell_type": "code",
   "execution_count": null,
   "id": "af8a91da-486f-47a8-afc4-9a8030993278",
   "metadata": {},
   "outputs": [],
   "source": [
    "l1=[\n",
    " [[1,2,3],\n",
    " ['A','B','C']],\n",
    "\n",
    "[[1,2,3],\n",
    " ['A','B','C']],\n",
    "\n",
    "[[1,2,3],\n",
    " ['A','B','C']]\n",
    "\n",
    "]\n",
    "\n",
    "l2=[\n",
    " [[1,2,3],\n",
    " ['A','B','C']],\n",
    "\n",
    "[[1,2,3],\n",
    " ['A','B','C']],\n",
    "\n",
    "[[1,2,3],\n",
    " ['A','B','C']]\n",
    "\n",
    "]\n",
    "\n",
    "l=[l1,l2]\n",
    "np.array(l)\n",
    "2,3,rows,column"
   ]
  },
  {
   "cell_type": "markdown",
   "id": "07c3c7c2-0d4d-4503-a5ec-a0e387e55d43",
   "metadata": {},
   "source": [
    "**Generate a random floating-point number between 0 and 1**"
   ]
  },
  {
   "cell_type": "code",
   "execution_count": 81,
   "id": "43900181-59f0-4645-affc-b72bfd79b93d",
   "metadata": {},
   "outputs": [
    {
     "data": {
      "text/plain": [
       "0.7734591057953635"
      ]
     },
     "execution_count": 81,
     "metadata": {},
     "output_type": "execute_result"
    }
   ],
   "source": [
    "import random\n",
    "random.random()"
   ]
  },
  {
   "cell_type": "code",
   "execution_count": 85,
   "id": "d6b1ce0f-cad6-4386-abf9-8a65cf56f1e2",
   "metadata": {},
   "outputs": [
    {
     "data": {
      "text/plain": [
       "0.1069504878443237"
      ]
     },
     "execution_count": 85,
     "metadata": {},
     "output_type": "execute_result"
    }
   ],
   "source": [
    "import numpy as np\n",
    "np.random.rand()"
   ]
  },
  {
   "cell_type": "code",
   "execution_count": 87,
   "id": "73e30d0f-cf9f-483b-a1de-35baf951621c",
   "metadata": {},
   "outputs": [
    {
     "data": {
      "text/plain": [
       "array([[0.64623883, 0.718343  ],\n",
       "       [0.30653567, 0.17606333],\n",
       "       [0.99281337, 0.69841789],\n",
       "       [0.02579499, 0.03291961]])"
      ]
     },
     "execution_count": 87,
     "metadata": {},
     "output_type": "execute_result"
    }
   ],
   "source": [
    "np.random.rand(4,2)\n",
    "# 2 rows and 2 columns"
   ]
  },
  {
   "cell_type": "code",
   "execution_count": 89,
   "id": "a66d63a2-4170-4b68-adcf-f19f52e3d908",
   "metadata": {},
   "outputs": [
    {
     "data": {
      "text/plain": [
       "array([-0.20677643,  1.68824346, -0.01393199,  0.29051906,  2.59644561,\n",
       "       -0.10544782,  0.91987241, -0.46230904, -0.88258338, -1.547991  ])"
      ]
     },
     "execution_count": 89,
     "metadata": {},
     "output_type": "execute_result"
    }
   ],
   "source": [
    "np.random.randn(10)"
   ]
  },
  {
   "cell_type": "markdown",
   "id": "6b0dcac4-b3d6-49eb-af0b-5f06082e24d2",
   "metadata": {},
   "source": [
    "**randn:**\n",
    "\n",
    "The randn function generates data that follows a **standard normal distribution,** with a mean of 0 and a standard deviation of 1. It is commonly used to create random samples drawn from a normal distribution for various applications in data analysis and simulations."
   ]
  },
  {
   "cell_type": "markdown",
   "id": "a31c0e96-f49a-40d0-91a3-7b7fc9d217b5",
   "metadata": {},
   "source": [
    "**random**"
   ]
  },
  {
   "cell_type": "code",
   "execution_count": 93,
   "id": "dfe98d4b-a7dd-47f8-9e0f-208ea235abd2",
   "metadata": {},
   "outputs": [
    {
     "data": {
      "text/plain": [
       "array([[0.32995693, 0.73174694, 0.82518059],\n",
       "       [0.89608084, 0.76120094, 0.39536183],\n",
       "       [0.14830151, 0.42600122, 0.78614154]])"
      ]
     },
     "execution_count": 93,
     "metadata": {},
     "output_type": "execute_result"
    }
   ],
   "source": [
    "np.random.random((3,3))"
   ]
  },
  {
   "cell_type": "code",
   "execution_count": 95,
   "id": "086ccead-0f6e-4bc3-82e9-6806ec383ee1",
   "metadata": {},
   "outputs": [
    {
     "data": {
      "text/plain": [
       "array([[0.09577917, 0.95383686, 0.18449741],\n",
       "       [0.46123238, 0.37270643, 0.97442394],\n",
       "       [0.51705527, 0.84838211, 0.94416844]])"
      ]
     },
     "execution_count": 95,
     "metadata": {},
     "output_type": "execute_result"
    }
   ],
   "source": [
    "np.random.rand(3,3)"
   ]
  },
  {
   "cell_type": "markdown",
   "id": "d1a9daf7-17c5-405b-8f1a-fcbba6f75b01",
   "metadata": {},
   "source": [
    "- **random** expects the shape to be provided in a tuple format.\n",
    "\n",
    "- However, rand does not require the shape to be specified in tuple format.\n",
    "\n",
    "- Many functions and code structures expect the shape argument to be provided in a tuple format.\n",
    "\n",
    "- Therefore, using **random.random()** is considered a best practice for consistency and flexibility in handling shape arguments."
   ]
  },
  {
   "cell_type": "markdown",
   "id": "20828160-aba9-4bbc-8e86-7e60507ce7f4",
   "metadata": {},
   "source": [
    "- The **random** package in Python provides basic random number generation functionality.\n",
    "\n",
    "- **NumPy** includes its own random module, which offers:\n",
    "\n",
    "- The ability to generate random numbers between 0 and 1.\n",
    "- The shape must be provided in tuple format.\n",
    "- **NumPy** also includes rand, which:\n",
    "\n",
    "   - Generates random numbers between 0 and 1.\n",
    "   - Does not require the shape to be specified in tuple format.\n",
    "- **NumPy's** randn:\n",
    "\n",
    "   - Generates random data that follows a normal distribution with a mean of 0 and a standard deviation of 1."
   ]
  },
  {
   "cell_type": "markdown",
   "id": "4f34c43d-ff9a-4d91-b93a-9cb6178fa2ee",
   "metadata": {},
   "source": [
    "**Generate random integers within a specified range**"
   ]
  },
  {
   "cell_type": "code",
   "execution_count": 100,
   "id": "3fd7b440-3b3f-41cd-85fc-81d5d3b87037",
   "metadata": {},
   "outputs": [
    {
     "data": {
      "text/plain": [
       "18"
      ]
     },
     "execution_count": 100,
     "metadata": {},
     "output_type": "execute_result"
    }
   ],
   "source": [
    "import random\n",
    "random.randint(1,20)\n",
    "# 1 and 10 both are include "
   ]
  },
  {
   "cell_type": "code",
   "execution_count": 102,
   "id": "a435d762-a22f-4344-a62e-8bee7e5845c4",
   "metadata": {},
   "outputs": [
    {
     "data": {
      "text/plain": [
       "3"
      ]
     },
     "execution_count": 102,
     "metadata": {},
     "output_type": "execute_result"
    }
   ],
   "source": [
    "import numpy as np\n",
    "random.randint(1,10)\n",
    "# low (inclusive) to high (exclusive).\n",
    "# 1 is include 10 is exclude"
   ]
  },
  {
   "cell_type": "code",
   "execution_count": 104,
   "id": "6906c0d8-bc38-4d30-89d0-4f8873d39874",
   "metadata": {},
   "outputs": [
    {
     "data": {
      "text/plain": [
       "array([11, 19,  2, 12, 14])"
      ]
     },
     "execution_count": 104,
     "metadata": {},
     "output_type": "execute_result"
    }
   ],
   "source": [
    "np.random.randint(1,20,size=5)"
   ]
  },
  {
   "cell_type": "code",
   "execution_count": 106,
   "id": "ab8a0229-25b5-4f5d-a6c5-c62132b2a54c",
   "metadata": {},
   "outputs": [
    {
     "data": {
      "text/plain": [
       "array([[ 6, 12],\n",
       "       [13,  6],\n",
       "       [18, 11]])"
      ]
     },
     "execution_count": 106,
     "metadata": {},
     "output_type": "execute_result"
    }
   ],
   "source": [
    "np.random.randint(1,20,size=(3,2))"
   ]
  },
  {
   "cell_type": "markdown",
   "id": "5a656c38-b497-41b4-8fa5-15c3243cb39c",
   "metadata": {},
   "source": [
    "**Select a random number from a given list**"
   ]
  },
  {
   "cell_type": "code",
   "execution_count": 109,
   "id": "d535cae7-88c5-4f90-86fb-fe897a4a31ca",
   "metadata": {},
   "outputs": [
    {
     "data": {
      "text/plain": [
       "50"
      ]
     },
     "execution_count": 109,
     "metadata": {},
     "output_type": "execute_result"
    }
   ],
   "source": [
    "list1=[10,20,30,40,50,60,70,80]\n",
    "import random\n",
    "random.choice(list1)"
   ]
  },
  {
   "cell_type": "code",
   "execution_count": 111,
   "id": "1dacf458-1f1b-440a-ae3e-8183dccf5ade",
   "metadata": {},
   "outputs": [
    {
     "data": {
      "text/plain": [
       "20"
      ]
     },
     "execution_count": 111,
     "metadata": {},
     "output_type": "execute_result"
    }
   ],
   "source": [
    "list1=[10,20,30,40,50,60,70,80]\n",
    "import numpy as np\n",
    "np.random.choice(list1)"
   ]
  },
  {
   "cell_type": "code",
   "execution_count": 113,
   "id": "42a85ce5-6ee0-4cca-af39-6c93ee963760",
   "metadata": {},
   "outputs": [
    {
     "data": {
      "text/plain": [
       "array([112,  77,  31,  78, 105, 191, 187, 143,  98, 180])"
      ]
     },
     "execution_count": 113,
     "metadata": {},
     "output_type": "execute_result"
    }
   ],
   "source": [
    "list1=range(1,200) # [i for in range(1,200)]\n",
    "np.random.choice(list1,10)"
   ]
  },
  {
   "cell_type": "code",
   "execution_count": 115,
   "id": "6bbf4528-a6af-400d-af0c-0b60f0635337",
   "metadata": {},
   "outputs": [
    {
     "data": {
      "text/plain": [
       "array([125, 170, 115, 102, 166,  32, 142,  11, 143,  42])"
      ]
     },
     "execution_count": 115,
     "metadata": {},
     "output_type": "execute_result"
    }
   ],
   "source": [
    "# Avoid the repeatition\n",
    "list1=range(1,200) # [i for in range(1,200)]\n",
    "np.random.choice(list1,10,replace=False)"
   ]
  },
  {
   "cell_type": "markdown",
   "id": "db0a1e0b-e28e-4d85-80a6-6989ae6c88c9",
   "metadata": {},
   "source": [
    "- **Statistical operations using numPy**\n",
    "- **Min:** The minimum value in a dataset or array. It represents the smallest number or the lowest value.\n",
    "\n",
    "- **Max:** The maximum value in a dataset or array. It represents the largest number or the highest value.\n",
    "\n",
    "- **Count:** The total number of elements or observations in a dataset or array.\n",
    "\n",
    "- **Mean:** The arithmetic average of a dataset, calculated by summing all values and dividing by the number of elements.\n",
    "\n",
    "- **Mode:** The value that appears most frequently in a dataset.\n",
    "\n",
    "- **Median:** The middle value in a sorted dataset, where half of the values are below and half are above it. It is less affected by outliers compared to the mean.\n",
    "\n",
    "- **Variance:** A measure of how spread out the values in a dataset are from the mean. It is the average of the squared differences from the mean.\n",
    "\n",
    "- **Standard Deviation:** The square root of the variance. It measures the average amount of variability or dispersion in a dataset.\n",
    "\n",
    "- **Covariance:** A measure of the relationship between two variables, indicating how changes in one variable correspond to changes in another.\n",
    "\n",
    "- **Correlation:** A statistical measure that describes the strength and direction of the relationship between two variables. It ranges from -1 to 1.\n",
    "\n",
    "- **Percentile:** The value below which a given percentage of observations in a dataset fall. For example, the 50th percentile is the median.\n",
    "\n",
    "- **Quantile:** A value that divides a dataset into equal intervals, with a specified proportion of data falling below the quantile. Quantiles include quartiles, deciles, etc."
   ]
  },
  {
   "cell_type": "code",
   "execution_count": 118,
   "id": "658eed59-5542-45d0-a5c9-feb68fad6024",
   "metadata": {},
   "outputs": [],
   "source": [
    "import numpy as np"
   ]
  },
  {
   "cell_type": "code",
   "execution_count": 120,
   "id": "b8a0f9a0-46a0-42e6-92a0-173e74ab7647",
   "metadata": {},
   "outputs": [
    {
     "data": {
      "text/plain": [
       "['ALLOW_THREADS',\n",
       " 'BUFSIZE',\n",
       " 'CLIP',\n",
       " 'DataSource',\n",
       " 'ERR_CALL',\n",
       " 'ERR_DEFAULT',\n",
       " 'ERR_IGNORE',\n",
       " 'ERR_LOG',\n",
       " 'ERR_PRINT',\n",
       " 'ERR_RAISE',\n",
       " 'ERR_WARN',\n",
       " 'FLOATING_POINT_SUPPORT',\n",
       " 'FPE_DIVIDEBYZERO',\n",
       " 'FPE_INVALID',\n",
       " 'FPE_OVERFLOW',\n",
       " 'FPE_UNDERFLOW',\n",
       " 'False_',\n",
       " 'Inf',\n",
       " 'Infinity',\n",
       " 'MAXDIMS',\n",
       " 'MAY_SHARE_BOUNDS',\n",
       " 'MAY_SHARE_EXACT',\n",
       " 'NAN',\n",
       " 'NINF',\n",
       " 'NZERO',\n",
       " 'NaN',\n",
       " 'PINF',\n",
       " 'PZERO',\n",
       " 'RAISE',\n",
       " 'RankWarning',\n",
       " 'SHIFT_DIVIDEBYZERO',\n",
       " 'SHIFT_INVALID',\n",
       " 'SHIFT_OVERFLOW',\n",
       " 'SHIFT_UNDERFLOW',\n",
       " 'ScalarType',\n",
       " 'True_',\n",
       " 'UFUNC_BUFSIZE_DEFAULT',\n",
       " 'UFUNC_PYVALS_NAME',\n",
       " 'WRAP',\n",
       " '_CopyMode',\n",
       " '_NoValue',\n",
       " '_UFUNC_API',\n",
       " '__NUMPY_SETUP__',\n",
       " '__all__',\n",
       " '__builtins__',\n",
       " '__cached__',\n",
       " '__config__',\n",
       " '__deprecated_attrs__',\n",
       " '__dir__',\n",
       " '__doc__',\n",
       " '__expired_functions__',\n",
       " '__file__',\n",
       " '__former_attrs__',\n",
       " '__future_scalars__',\n",
       " '__getattr__',\n",
       " '__loader__',\n",
       " '__name__',\n",
       " '__package__',\n",
       " '__path__',\n",
       " '__spec__',\n",
       " '__version__',\n",
       " '_add_newdoc_ufunc',\n",
       " '_builtins',\n",
       " '_distributor_init',\n",
       " '_financial_names',\n",
       " '_get_promotion_state',\n",
       " '_globals',\n",
       " '_int_extended_msg',\n",
       " '_mat',\n",
       " '_no_nep50_warning',\n",
       " '_pyinstaller_hooks_dir',\n",
       " '_pytesttester',\n",
       " '_set_promotion_state',\n",
       " '_specific_msg',\n",
       " '_typing',\n",
       " '_using_numpy2_behavior',\n",
       " '_utils',\n",
       " 'abs',\n",
       " 'absolute',\n",
       " 'add',\n",
       " 'add_docstring',\n",
       " 'add_newdoc',\n",
       " 'add_newdoc_ufunc',\n",
       " 'all',\n",
       " 'allclose',\n",
       " 'alltrue',\n",
       " 'amax',\n",
       " 'amin',\n",
       " 'angle',\n",
       " 'any',\n",
       " 'append',\n",
       " 'apply_along_axis',\n",
       " 'apply_over_axes',\n",
       " 'arange',\n",
       " 'arccos',\n",
       " 'arccosh',\n",
       " 'arcsin',\n",
       " 'arcsinh',\n",
       " 'arctan',\n",
       " 'arctan2',\n",
       " 'arctanh',\n",
       " 'argmax',\n",
       " 'argmin',\n",
       " 'argpartition',\n",
       " 'argsort',\n",
       " 'argwhere',\n",
       " 'around',\n",
       " 'array',\n",
       " 'array2string',\n",
       " 'array_equal',\n",
       " 'array_equiv',\n",
       " 'array_repr',\n",
       " 'array_split',\n",
       " 'array_str',\n",
       " 'asanyarray',\n",
       " 'asarray',\n",
       " 'asarray_chkfinite',\n",
       " 'ascontiguousarray',\n",
       " 'asfarray',\n",
       " 'asfortranarray',\n",
       " 'asmatrix',\n",
       " 'atleast_1d',\n",
       " 'atleast_2d',\n",
       " 'atleast_3d',\n",
       " 'average',\n",
       " 'bartlett',\n",
       " 'base_repr',\n",
       " 'binary_repr',\n",
       " 'bincount',\n",
       " 'bitwise_and',\n",
       " 'bitwise_not',\n",
       " 'bitwise_or',\n",
       " 'bitwise_xor',\n",
       " 'blackman',\n",
       " 'block',\n",
       " 'bmat',\n",
       " 'bool_',\n",
       " 'broadcast',\n",
       " 'broadcast_arrays',\n",
       " 'broadcast_shapes',\n",
       " 'broadcast_to',\n",
       " 'busday_count',\n",
       " 'busday_offset',\n",
       " 'busdaycalendar',\n",
       " 'byte',\n",
       " 'byte_bounds',\n",
       " 'bytes_',\n",
       " 'c_',\n",
       " 'can_cast',\n",
       " 'cast',\n",
       " 'cbrt',\n",
       " 'cdouble',\n",
       " 'ceil',\n",
       " 'cfloat',\n",
       " 'char',\n",
       " 'character',\n",
       " 'chararray',\n",
       " 'choose',\n",
       " 'clip',\n",
       " 'clongdouble',\n",
       " 'clongfloat',\n",
       " 'column_stack',\n",
       " 'common_type',\n",
       " 'compare_chararrays',\n",
       " 'compat',\n",
       " 'complex128',\n",
       " 'complex64',\n",
       " 'complex_',\n",
       " 'complexfloating',\n",
       " 'compress',\n",
       " 'concatenate',\n",
       " 'conj',\n",
       " 'conjugate',\n",
       " 'convolve',\n",
       " 'copy',\n",
       " 'copysign',\n",
       " 'copyto',\n",
       " 'corrcoef',\n",
       " 'correlate',\n",
       " 'cos',\n",
       " 'cosh',\n",
       " 'count_nonzero',\n",
       " 'cov',\n",
       " 'cross',\n",
       " 'csingle',\n",
       " 'ctypeslib',\n",
       " 'cumprod',\n",
       " 'cumproduct',\n",
       " 'cumsum',\n",
       " 'datetime64',\n",
       " 'datetime_as_string',\n",
       " 'datetime_data',\n",
       " 'deg2rad',\n",
       " 'degrees',\n",
       " 'delete',\n",
       " 'deprecate',\n",
       " 'deprecate_with_doc',\n",
       " 'diag',\n",
       " 'diag_indices',\n",
       " 'diag_indices_from',\n",
       " 'diagflat',\n",
       " 'diagonal',\n",
       " 'diff',\n",
       " 'digitize',\n",
       " 'disp',\n",
       " 'divide',\n",
       " 'divmod',\n",
       " 'dot',\n",
       " 'double',\n",
       " 'dsplit',\n",
       " 'dstack',\n",
       " 'dtype',\n",
       " 'dtypes',\n",
       " 'e',\n",
       " 'ediff1d',\n",
       " 'einsum',\n",
       " 'einsum_path',\n",
       " 'emath',\n",
       " 'empty',\n",
       " 'empty_like',\n",
       " 'equal',\n",
       " 'errstate',\n",
       " 'euler_gamma',\n",
       " 'exceptions',\n",
       " 'exp',\n",
       " 'exp2',\n",
       " 'expand_dims',\n",
       " 'expm1',\n",
       " 'expm1x',\n",
       " 'extract',\n",
       " 'eye',\n",
       " 'fabs',\n",
       " 'fastCopyAndTranspose',\n",
       " 'fft',\n",
       " 'fill_diagonal',\n",
       " 'find_common_type',\n",
       " 'finfo',\n",
       " 'fix',\n",
       " 'flatiter',\n",
       " 'flatnonzero',\n",
       " 'flexible',\n",
       " 'flip',\n",
       " 'fliplr',\n",
       " 'flipud',\n",
       " 'float16',\n",
       " 'float32',\n",
       " 'float64',\n",
       " 'float_',\n",
       " 'float_power',\n",
       " 'floating',\n",
       " 'floor',\n",
       " 'floor_divide',\n",
       " 'fmax',\n",
       " 'fmin',\n",
       " 'fmod',\n",
       " 'format_float_positional',\n",
       " 'format_float_scientific',\n",
       " 'format_parser',\n",
       " 'frexp',\n",
       " 'from_dlpack',\n",
       " 'frombuffer',\n",
       " 'fromfile',\n",
       " 'fromfunction',\n",
       " 'fromiter',\n",
       " 'frompyfunc',\n",
       " 'fromregex',\n",
       " 'fromstring',\n",
       " 'full',\n",
       " 'full_like',\n",
       " 'gcd',\n",
       " 'generic',\n",
       " 'genfromtxt',\n",
       " 'geomspace',\n",
       " 'get_array_wrap',\n",
       " 'get_include',\n",
       " 'get_printoptions',\n",
       " 'getbufsize',\n",
       " 'geterr',\n",
       " 'geterrcall',\n",
       " 'geterrobj',\n",
       " 'gradient',\n",
       " 'greater',\n",
       " 'greater_equal',\n",
       " 'half',\n",
       " 'hamming',\n",
       " 'hanning',\n",
       " 'heaviside',\n",
       " 'histogram',\n",
       " 'histogram2d',\n",
       " 'histogram_bin_edges',\n",
       " 'histogramdd',\n",
       " 'hsplit',\n",
       " 'hstack',\n",
       " 'hypot',\n",
       " 'i0',\n",
       " 'identity',\n",
       " 'iinfo',\n",
       " 'imag',\n",
       " 'in1d',\n",
       " 'index_exp',\n",
       " 'indices',\n",
       " 'inexact',\n",
       " 'inf',\n",
       " 'info',\n",
       " 'infty',\n",
       " 'inner',\n",
       " 'insert',\n",
       " 'int16',\n",
       " 'int32',\n",
       " 'int64',\n",
       " 'int8',\n",
       " 'int_',\n",
       " 'intc',\n",
       " 'integer',\n",
       " 'interp',\n",
       " 'intersect1d',\n",
       " 'intp',\n",
       " 'invert',\n",
       " 'is_busday',\n",
       " 'isclose',\n",
       " 'iscomplex',\n",
       " 'iscomplexobj',\n",
       " 'isfinite',\n",
       " 'isfortran',\n",
       " 'isin',\n",
       " 'isinf',\n",
       " 'isnan',\n",
       " 'isnat',\n",
       " 'isneginf',\n",
       " 'isposinf',\n",
       " 'isreal',\n",
       " 'isrealobj',\n",
       " 'isscalar',\n",
       " 'issctype',\n",
       " 'issubclass_',\n",
       " 'issubdtype',\n",
       " 'issubsctype',\n",
       " 'iterable',\n",
       " 'ix_',\n",
       " 'kaiser',\n",
       " 'kron',\n",
       " 'lcm',\n",
       " 'ldexp',\n",
       " 'left_shift',\n",
       " 'less',\n",
       " 'less_equal',\n",
       " 'lexsort',\n",
       " 'lib',\n",
       " 'linalg',\n",
       " 'linspace',\n",
       " 'little_endian',\n",
       " 'load',\n",
       " 'loadtxt',\n",
       " 'log',\n",
       " 'log10',\n",
       " 'log1p',\n",
       " 'log2',\n",
       " 'logaddexp',\n",
       " 'logaddexp2',\n",
       " 'logical_and',\n",
       " 'logical_not',\n",
       " 'logical_or',\n",
       " 'logical_xor',\n",
       " 'logspace',\n",
       " 'longcomplex',\n",
       " 'longdouble',\n",
       " 'longfloat',\n",
       " 'longlong',\n",
       " 'lookfor',\n",
       " 'ma',\n",
       " 'mask_indices',\n",
       " 'mat',\n",
       " 'matmul',\n",
       " 'matrix',\n",
       " 'max',\n",
       " 'maximum',\n",
       " 'maximum_sctype',\n",
       " 'may_share_memory',\n",
       " 'mean',\n",
       " 'median',\n",
       " 'memmap',\n",
       " 'meshgrid',\n",
       " 'mgrid',\n",
       " 'min',\n",
       " 'min_scalar_type',\n",
       " 'minimum',\n",
       " 'mintypecode',\n",
       " 'mod',\n",
       " 'modf',\n",
       " 'moveaxis',\n",
       " 'msort',\n",
       " 'multiply',\n",
       " 'nan',\n",
       " 'nan_to_num',\n",
       " 'nanargmax',\n",
       " 'nanargmin',\n",
       " 'nancumprod',\n",
       " 'nancumsum',\n",
       " 'nanmax',\n",
       " 'nanmean',\n",
       " 'nanmedian',\n",
       " 'nanmin',\n",
       " 'nanpercentile',\n",
       " 'nanprod',\n",
       " 'nanquantile',\n",
       " 'nanstd',\n",
       " 'nansum',\n",
       " 'nanvar',\n",
       " 'nbytes',\n",
       " 'ndarray',\n",
       " 'ndenumerate',\n",
       " 'ndim',\n",
       " 'ndindex',\n",
       " 'nditer',\n",
       " 'negative',\n",
       " 'nested_iters',\n",
       " 'newaxis',\n",
       " 'nextafter',\n",
       " 'nonzero',\n",
       " 'not_equal',\n",
       " 'numarray',\n",
       " 'number',\n",
       " 'obj2sctype',\n",
       " 'object_',\n",
       " 'ogrid',\n",
       " 'oldnumeric',\n",
       " 'ones',\n",
       " 'ones_like',\n",
       " 'outer',\n",
       " 'packbits',\n",
       " 'pad',\n",
       " 'partition',\n",
       " 'percentile',\n",
       " 'pi',\n",
       " 'piecewise',\n",
       " 'place',\n",
       " 'poly',\n",
       " 'poly1d',\n",
       " 'polyadd',\n",
       " 'polyder',\n",
       " 'polydiv',\n",
       " 'polyfit',\n",
       " 'polyint',\n",
       " 'polymul',\n",
       " 'polynomial',\n",
       " 'polysub',\n",
       " 'polyval',\n",
       " 'positive',\n",
       " 'power',\n",
       " 'printoptions',\n",
       " 'prod',\n",
       " 'product',\n",
       " 'promote_types',\n",
       " 'ptp',\n",
       " 'put',\n",
       " 'put_along_axis',\n",
       " 'putmask',\n",
       " 'quantile',\n",
       " 'r_',\n",
       " 'rad2deg',\n",
       " 'radians',\n",
       " 'random',\n",
       " 'ravel',\n",
       " 'ravel_multi_index',\n",
       " 'real',\n",
       " 'real_if_close',\n",
       " 'rec',\n",
       " 'recarray',\n",
       " 'recfromcsv',\n",
       " 'recfromtxt',\n",
       " 'reciprocal',\n",
       " 'record',\n",
       " 'remainder',\n",
       " 'repeat',\n",
       " 'require',\n",
       " 'reshape',\n",
       " 'resize',\n",
       " 'result_type',\n",
       " 'right_shift',\n",
       " 'rint',\n",
       " 'roll',\n",
       " 'rollaxis',\n",
       " 'roots',\n",
       " 'rot90',\n",
       " 'round',\n",
       " 'round_',\n",
       " 'row_stack',\n",
       " 's_',\n",
       " 'safe_eval',\n",
       " 'save',\n",
       " 'savetxt',\n",
       " 'savez',\n",
       " 'savez_compressed',\n",
       " 'sctype2char',\n",
       " 'sctypeDict',\n",
       " 'sctypes',\n",
       " 'searchsorted',\n",
       " 'select',\n",
       " 'set_numeric_ops',\n",
       " 'set_printoptions',\n",
       " 'set_string_function',\n",
       " 'setbufsize',\n",
       " 'setdiff1d',\n",
       " 'seterr',\n",
       " 'seterrcall',\n",
       " 'seterrobj',\n",
       " 'setxor1d',\n",
       " 'shape',\n",
       " 'shares_memory',\n",
       " 'short',\n",
       " 'show_config',\n",
       " 'show_runtime',\n",
       " 'sign',\n",
       " 'signbit',\n",
       " 'signedinteger',\n",
       " 'sin',\n",
       " 'sinc',\n",
       " 'single',\n",
       " 'singlecomplex',\n",
       " 'sinh',\n",
       " 'size',\n",
       " 'sometrue',\n",
       " 'sort',\n",
       " 'sort_complex',\n",
       " 'source',\n",
       " 'spacing',\n",
       " 'split',\n",
       " 'sqrt',\n",
       " 'square',\n",
       " 'squeeze',\n",
       " 'stack',\n",
       " 'std',\n",
       " 'str_',\n",
       " 'string_',\n",
       " 'subtract',\n",
       " 'sum',\n",
       " 'swapaxes',\n",
       " 'take',\n",
       " 'take_along_axis',\n",
       " 'tan',\n",
       " 'tanh',\n",
       " 'tensordot',\n",
       " 'test',\n",
       " 'testing',\n",
       " 'tile',\n",
       " 'timedelta64',\n",
       " 'trace',\n",
       " 'tracemalloc_domain',\n",
       " 'transpose',\n",
       " 'trapz',\n",
       " 'tri',\n",
       " 'tril',\n",
       " 'tril_indices',\n",
       " 'tril_indices_from',\n",
       " 'trim_zeros',\n",
       " 'triu',\n",
       " 'triu_indices',\n",
       " 'triu_indices_from',\n",
       " 'true_divide',\n",
       " 'trunc',\n",
       " 'typecodes',\n",
       " 'typename',\n",
       " 'ubyte',\n",
       " 'ufunc',\n",
       " 'uint',\n",
       " 'uint16',\n",
       " 'uint32',\n",
       " 'uint64',\n",
       " 'uint8',\n",
       " 'uintc',\n",
       " 'uintp',\n",
       " 'ulonglong',\n",
       " 'unicode_',\n",
       " 'union1d',\n",
       " 'unique',\n",
       " 'unpackbits',\n",
       " 'unravel_index',\n",
       " 'unsignedinteger',\n",
       " 'unwrap',\n",
       " 'ushort',\n",
       " 'vander',\n",
       " 'var',\n",
       " 'vdot',\n",
       " 'vectorize',\n",
       " 'version',\n",
       " 'void',\n",
       " 'vsplit',\n",
       " 'vstack',\n",
       " 'where',\n",
       " 'who',\n",
       " 'zeros',\n",
       " 'zeros_like']"
      ]
     },
     "execution_count": 120,
     "metadata": {},
     "output_type": "execute_result"
    }
   ],
   "source": [
    "dir(np)"
   ]
  },
  {
   "cell_type": "markdown",
   "id": "ad1f59df-30fa-42c4-b468-0cf680301826",
   "metadata": {},
   "source": [
    "**min**"
   ]
  },
  {
   "cell_type": "code",
   "execution_count": 123,
   "id": "f19ba9fb-a212-4b9a-9f6d-f06c98923b25",
   "metadata": {},
   "outputs": [],
   "source": [
    "list1=[10,20,30,40,50,60]"
   ]
  },
  {
   "cell_type": "code",
   "execution_count": 125,
   "id": "796f15c7-fc9a-4d78-89c2-3abfbb586a62",
   "metadata": {},
   "outputs": [
    {
     "data": {
      "text/plain": [
       "10"
      ]
     },
     "execution_count": 125,
     "metadata": {},
     "output_type": "execute_result"
    }
   ],
   "source": [
    "np.min(list1)"
   ]
  },
  {
   "cell_type": "code",
   "execution_count": 127,
   "id": "ea47fd36-9c6a-415a-8e1a-8686e562543f",
   "metadata": {},
   "outputs": [
    {
     "data": {
      "text/plain": [
       "array([[10, 20, 30],\n",
       "       [ 1,  2,  3]])"
      ]
     },
     "execution_count": 127,
     "metadata": {},
     "output_type": "execute_result"
    }
   ],
   "source": [
    "arr1=np.array([[10,20,30],\n",
    "              [1,2,3]])\n",
    "arr1"
   ]
  },
  {
   "cell_type": "code",
   "execution_count": 129,
   "id": "21d76136-b260-44b2-83d0-7b8c48c9eb17",
   "metadata": {},
   "outputs": [
    {
     "data": {
      "text/plain": [
       "(2, 3)"
      ]
     },
     "execution_count": 129,
     "metadata": {},
     "output_type": "execute_result"
    }
   ],
   "source": [
    "arr1.shape"
   ]
  },
  {
   "cell_type": "code",
   "execution_count": 131,
   "id": "4c555f50-8cdd-422b-980b-25db5b0c6546",
   "metadata": {},
   "outputs": [
    {
     "data": {
      "text/plain": [
       "1"
      ]
     },
     "execution_count": 131,
     "metadata": {},
     "output_type": "execute_result"
    }
   ],
   "source": [
    "np.min(arr1)"
   ]
  },
  {
   "cell_type": "code",
   "execution_count": 133,
   "id": "9c9d0ba3-20a8-442b-9c1d-ee6583fc175c",
   "metadata": {},
   "outputs": [
    {
     "data": {
      "text/plain": [
       "array([1, 2, 3])"
      ]
     },
     "execution_count": 133,
     "metadata": {},
     "output_type": "execute_result"
    }
   ],
   "source": [
    "np.min(arr1,axis=0)"
   ]
  },
  {
   "cell_type": "code",
   "execution_count": 135,
   "id": "24ba83d9-f7aa-4a15-9a9b-1cf4edb31b26",
   "metadata": {},
   "outputs": [
    {
     "data": {
      "text/plain": [
       "array([10,  1])"
      ]
     },
     "execution_count": 135,
     "metadata": {},
     "output_type": "execute_result"
    }
   ],
   "source": [
    "np.min(arr1,axis=1)"
   ]
  },
  {
   "cell_type": "markdown",
   "id": "a5fa48b7-aded-4ac9-8927-6c48a7a3f5e7",
   "metadata": {},
   "source": [
    "- **Axis 0** represents the rows, meaning operations along this axis are performed column-wise.\n",
    "\n",
    "- **Axis 1** represents the columns, meaning operations along this axis are performed row-wise."
   ]
  },
  {
   "cell_type": "markdown",
   "id": "8391b15a-598a-437c-aae7-a470923766f6",
   "metadata": {},
   "source": [
    "**Sum**"
   ]
  },
  {
   "cell_type": "code",
   "execution_count": 139,
   "id": "6598c6ec-5813-4180-b44a-849665b7b614",
   "metadata": {},
   "outputs": [
    {
     "data": {
      "text/plain": [
       "array([[ 60, 170, 180],\n",
       "       [ 10,  20,  30]])"
      ]
     },
     "execution_count": 139,
     "metadata": {},
     "output_type": "execute_result"
    }
   ],
   "source": [
    "arr1=np.array([[60,170,180],\n",
    "              [10,20,30]])\n",
    "arr1"
   ]
  },
  {
   "cell_type": "code",
   "execution_count": 141,
   "id": "b4307892-5147-4d5f-9c8f-a79fae558b0f",
   "metadata": {},
   "outputs": [
    {
     "data": {
      "text/plain": [
       "470"
      ]
     },
     "execution_count": 141,
     "metadata": {},
     "output_type": "execute_result"
    }
   ],
   "source": [
    "np.sum(arr1)"
   ]
  },
  {
   "cell_type": "code",
   "execution_count": 143,
   "id": "d2dbf4f6-edaf-4de4-9a52-f781fec1631d",
   "metadata": {},
   "outputs": [
    {
     "data": {
      "text/plain": [
       "array([ 70, 190, 210])"
      ]
     },
     "execution_count": 143,
     "metadata": {},
     "output_type": "execute_result"
    }
   ],
   "source": [
    "np.sum(arr1,axis=0)"
   ]
  },
  {
   "cell_type": "code",
   "execution_count": 145,
   "id": "e568ba78-14b6-4eab-b25d-4bb1205eca71",
   "metadata": {},
   "outputs": [
    {
     "data": {
      "text/plain": [
       "[85, 89, 300, 400, 455, 490]"
      ]
     },
     "execution_count": 145,
     "metadata": {},
     "output_type": "execute_result"
    }
   ],
   "source": [
    "[ 85, 89,  300]+[ 400,  455,  490]"
   ]
  },
  {
   "cell_type": "code",
   "execution_count": 147,
   "id": "fa88a816-9ca8-4f61-84b8-7789d3540971",
   "metadata": {},
   "outputs": [
    {
     "data": {
      "text/plain": [
       "array([410,  60])"
      ]
     },
     "execution_count": 147,
     "metadata": {},
     "output_type": "execute_result"
    }
   ],
   "source": [
    "np.sum(arr1,axis=1)"
   ]
  },
  {
   "cell_type": "markdown",
   "id": "a9dcd7b6-4a80-4375-b63c-282d209b62bc",
   "metadata": {},
   "source": [
    "- **Sum at the axis level** refers to computing the sum along a specific axis in a multi-dimensional array.\n",
    "\n",
    "- axis=1 (row-wise sum):\n",
    "\n",
    "   - Computes the sum across each row individually.\n",
    "   - Each row's elements are summed separately.\n",
    "- axis=0 (column-wise sum):\n",
    "\n",
    "   - Computes the sum across each column.\n",
    "   - Each column's elements are summed separately."
   ]
  },
  {
   "cell_type": "markdown",
   "id": "d12aca58-2a51-4851-a117-c56b119777de",
   "metadata": {},
   "source": [
    "**mean-median**"
   ]
  },
  {
   "cell_type": "code",
   "execution_count": 151,
   "id": "a4a7d438-a406-4bc4-97f4-ce77e9a46512",
   "metadata": {},
   "outputs": [
    {
     "data": {
      "text/plain": [
       "76.28571428571429"
      ]
     },
     "execution_count": 151,
     "metadata": {},
     "output_type": "execute_result"
    }
   ],
   "source": [
    "list1=[78,65,78,45,57,89,122]\n",
    "np.mean(list1)"
   ]
  },
  {
   "cell_type": "code",
   "execution_count": 153,
   "id": "3e730f3e-502b-4539-bf3b-b4427f195e08",
   "metadata": {},
   "outputs": [
    {
     "data": {
      "text/plain": [
       "76.28571428571429"
      ]
     },
     "execution_count": 153,
     "metadata": {},
     "output_type": "execute_result"
    }
   ],
   "source": [
    "np.sum(list1)/len(list1)"
   ]
  },
  {
   "cell_type": "code",
   "execution_count": 155,
   "id": "6e1c57e4-fd67-4ba5-ad6a-3a3e63b1ecd2",
   "metadata": {},
   "outputs": [
    {
     "data": {
      "text/plain": [
       "534"
      ]
     },
     "execution_count": 155,
     "metadata": {},
     "output_type": "execute_result"
    }
   ],
   "source": [
    "from functools import reduce\n",
    "reduce(lambda summ,i: summ+i,list1)"
   ]
  },
  {
   "cell_type": "code",
   "execution_count": 157,
   "id": "86a1d463-83ef-4020-acce-9d4f2ced5677",
   "metadata": {},
   "outputs": [
    {
     "data": {
      "text/plain": [
       "534"
      ]
     },
     "execution_count": 157,
     "metadata": {},
     "output_type": "execute_result"
    }
   ],
   "source": [
    "summ=0\n",
    "for i in list1:\n",
    "    summ=summ+i\n",
    "summ"
   ]
  },
  {
   "cell_type": "code",
   "execution_count": 159,
   "id": "20b4ce8c-e198-46ab-a8a5-b51e674971c8",
   "metadata": {},
   "outputs": [
    {
     "data": {
      "text/plain": [
       "358"
      ]
     },
     "execution_count": 159,
     "metadata": {},
     "output_type": "execute_result"
    }
   ],
   "source": [
    "list1=[1,22,23,45,57,89,121]\n",
    "summ=0\n",
    "[summ:=summ+i for i in list1][-1]"
   ]
  },
  {
   "cell_type": "code",
   "execution_count": 161,
   "id": "ad5e9cc9-6b98-4be9-a4b0-fa0c8cb25172",
   "metadata": {},
   "outputs": [
    {
     "data": {
      "text/plain": [
       "array([[384.5 , 348.75],\n",
       "       [348.75, 776.3 ]])"
      ]
     },
     "execution_count": 161,
     "metadata": {},
     "output_type": "execute_result"
    }
   ],
   "source": [
    "x=[55,35,80,78,47]\n",
    "y=[45,12,25,78,12]\n",
    "np.cov(x,y)"
   ]
  },
  {
   "cell_type": "code",
   "execution_count": 163,
   "id": "d045b173-70b8-4deb-be15-739c63590834",
   "metadata": {},
   "outputs": [
    {
     "name": "stdout",
     "output_type": "stream",
     "text": [
      "161.64999999999998\n"
     ]
    }
   ],
   "source": [
    "import numpy as np  \n",
    "\n",
    "# Step 1: Calculate the mean of x  \n",
    "x = [15, 54, 45, 40, 50]  \n",
    "x_bar = np.mean(x)  \n",
    "\n",
    "# Step 2: Calculate the mean of y  \n",
    "y = [15, 32, 34, 47, 55]  \n",
    "y_bar = np.mean(y)  \n",
    "\n",
    "# Step 3: Compute (xi - x̄) for each element in x  \n",
    "x_minus_xbar = [i - x_bar for i in x]  \n",
    "\n",
    "# Step 4: Compute (yi - ȳ) for each element in y  \n",
    "y_minus_ybar = [i - y_bar for i in y]  \n",
    "\n",
    "# Step 5: Compute the element-wise product of Step 3 and Step 4  \n",
    "product_list = [i * j for i, j in zip(x_minus_xbar, y_minus_ybar)]  \n",
    "\n",
    "# Step 6: Compute the sum of the product list  \n",
    "sum_product = sum(product_list)  \n",
    "\n",
    "# Step 7: Divide by (n - 1) to compute the final result  \n",
    "result = sum_product / (len(x) - 1)  \n",
    "\n",
    "print(result)  # Output: Covariance value  \n"
   ]
  },
  {
   "cell_type": "markdown",
   "id": "cd3fc9ba-37df-4d22-b9d7-84fd94823aed",
   "metadata": {},
   "source": [
    "**Variance**"
   ]
  },
  {
   "cell_type": "code",
   "execution_count": 165,
   "id": "eb7de272-5748-476f-a453-b0f6ee2cb7b0",
   "metadata": {},
   "outputs": [
    {
     "data": {
      "text/plain": [
       "200.0"
      ]
     },
     "execution_count": 165,
     "metadata": {},
     "output_type": "execute_result"
    }
   ],
   "source": [
    "x=[15,25,35,45,55]\n",
    "import numpy as np\n",
    "np.var(x)"
   ]
  },
  {
   "cell_type": "markdown",
   "id": "4b67e986-9a8f-4037-8955-eb05c6a32014",
   "metadata": {},
   "source": [
    "<img class=\"XqHOTb IGEbUc\" alt=\"S^2 = \\frac{\\sum (x_i - \\bar{x})^2}{n - 1}\" src=\"https://www.gstatic.com/education/formulas2/553212783/en/sample_variance.svg\" role=\"img\" data-csiid=\"d7JuZ42HLLed4-EP69DY2AM_16\" data-atf=\"0\">m"
   ]
  },
  {
   "cell_type": "code",
   "execution_count": 169,
   "id": "65f0d265-344f-47b9-ae2c-bc50547fb174",
   "metadata": {},
   "outputs": [
    {
     "name": "stdout",
     "output_type": "stream",
     "text": [
      "Mean of x: 35.0\n",
      "Variance: 200.0\n"
     ]
    }
   ],
   "source": [
    "# Step 1: Compute the mean  \n",
    "# Formula: mean = sum of all elements / total number of elements  \n",
    "\n",
    "x = [15, 25, 35, 45, 55]  \n",
    "x_mean = sum(x) / len(x)  \n",
    "print(\"Mean of x:\", x_mean)  \n",
    "\n",
    "# Step 2: Compute (xi - x̄) for each element in x  \n",
    "deviation_list = [i - x_mean for i in x]  \n",
    "\n",
    "# Step 3: Compute the squared deviations (xi - x̄)²  \n",
    "squared_deviation_list = [i ** 2 for i in deviation_list]  \n",
    "\n",
    "# Step 4: Compute variance (sum of squared deviations / N)  \n",
    "variance = sum(squared_deviation_list) / len(squared_deviation_list)  \n",
    "\n",
    "print(\"Variance:\", variance)  \n"
   ]
  },
  {
   "cell_type": "markdown",
   "id": "24db72ed-e658-46cb-99b4-7a11d55bfbf5",
   "metadata": {},
   "source": [
    "**Sd**"
   ]
  },
  {
   "cell_type": "code",
   "execution_count": 172,
   "id": "487cb799-ce74-4bfa-b384-42a65a7e1c74",
   "metadata": {},
   "outputs": [
    {
     "data": {
      "text/plain": [
       "14.142135623730951"
      ]
     },
     "execution_count": 172,
     "metadata": {},
     "output_type": "execute_result"
    }
   ],
   "source": [
    "x=[15,25,35,45,55]\n",
    "np.std(x)"
   ]
  },
  {
   "cell_type": "markdown",
   "id": "68dbae86-ca91-4736-b5b3-997fdb2743df",
   "metadata": {},
   "source": [
    "<img class=\"XqHOTb IGEbUc\" alt=\"\\sigma={\\sqrt {\\frac {\\sum(x_{i}-{\\mu})^{2}}{N}}}\" src=\"https://www.gstatic.com/education/formulas2/553212783/en/population_standard_deviation.svg\" role=\"img\" data-csiid=\"k7VuZ9CdNNqZ4-EP7c-O-AI_10\" data-atf=\"0\">"
   ]
  },
  {
   "cell_type": "code",
   "execution_count": 175,
   "id": "8563713d-5e77-4b9d-88fb-ec407e8a3f25",
   "metadata": {},
   "outputs": [
    {
     "name": "stdout",
     "output_type": "stream",
     "text": [
      "Mean of x: 35.0\n",
      "Standard Deviation: 14.142135623730951\n"
     ]
    }
   ],
   "source": [
    "# Step 1: Compute the mean  \n",
    "x = [15, 25, 35, 45, 55]  \n",
    "x_mean = sum(x) / len(x)  \n",
    "print(\"Mean of x:\", x_mean)  \n",
    "\n",
    "# Step 2: Compute (xi - x̄) for each element in x  \n",
    "deviations = [i - x_mean for i in x]  \n",
    "\n",
    "# Step 3: Compute the squared deviations (xi - x̄)²  \n",
    "squared_deviations = [i ** 2 for i in deviations]  \n",
    "\n",
    "# Step 4: Compute standard deviation  \n",
    "variance = sum(squared_deviations) / len(squared_deviations)  \n",
    "std_dev = variance ** 0.5  \n",
    "\n",
    "print(\"Standard Deviation:\", std_dev)  \n"
   ]
  },
  {
   "cell_type": "code",
   "execution_count": 177,
   "id": "1f2f77da-fbef-4fd1-a465-af892ba44eb7",
   "metadata": {},
   "outputs": [
    {
     "data": {
      "text/plain": [
       "200.0"
      ]
     },
     "execution_count": 177,
     "metadata": {},
     "output_type": "execute_result"
    }
   ],
   "source": [
    "np.sum(np.square(x-np.mean(x)))/len(x)"
   ]
  },
  {
   "cell_type": "markdown",
   "id": "195a3d5a-ff03-4c5b-9951-62ccfb5aab78",
   "metadata": {},
   "source": [
    "**correlation**"
   ]
  },
  {
   "cell_type": "code",
   "execution_count": 180,
   "id": "29c6003c-0b7f-49c2-99bf-5fb1385b9c6c",
   "metadata": {},
   "outputs": [
    {
     "data": {
      "text/plain": [
       "array([[1.        , 0.99913307],\n",
       "       [0.99913307, 1.        ]])"
      ]
     },
     "execution_count": 180,
     "metadata": {},
     "output_type": "execute_result"
    }
   ],
   "source": [
    "x=[15,25,35,45,55]\n",
    "y=[14,22,32,42,52] \n",
    "np.corrcoef(x,y)"
   ]
  },
  {
   "cell_type": "markdown",
   "id": "21cf2f06-aae0-4e50-9bc5-0018c805486a",
   "metadata": {},
   "source": [
    "<img src=\"https://www.simplilearn.com/ice9/free_resources_article_thumb/Correlation_2.png\" jsaction=\"\" class=\"sFlh5c FyHeAf iPVvYb\" style=\"max-width: 359px; height: 85px; margin: 27px 0px; width: 178px;\" alt=\"What Is Correlation? A Guide for Beginners | Simplilearn\" jsname=\"kn3ccd\" aria-hidden=\"false\">"
   ]
  },
  {
   "cell_type": "code",
   "execution_count": 183,
   "id": "216e150e-6c0e-4bfd-83c5-d1ecd5902423",
   "metadata": {},
   "outputs": [
    {
     "name": "stdout",
     "output_type": "stream",
     "text": [
      "Standard Deviation of x: 14.142135623730951\n",
      "Standard Deviation of y: 13.588230201170424\n",
      "Correlation Coefficient: 0.9991330730923518\n"
     ]
    }
   ],
   "source": [
    "import numpy as np  \n",
    "\n",
    "# Given data  \n",
    "x = [15, 25, 35, 45, 55]  \n",
    "y = [14, 22, 32, 42, 52]  \n",
    "\n",
    "# Step 1: Compute the mean of x and y  \n",
    "x_bar = np.mean(x)  \n",
    "y_bar = np.mean(y)  \n",
    "\n",
    "# Step 2: Compute (xi - x̄) and (yi - ȳ)  \n",
    "x_deviation = [i - x_bar for i in x]  \n",
    "y_deviation = [i - y_bar for i in y]  \n",
    "\n",
    "# Step 3: Compute the product of deviations  \n",
    "deviation_product = [i * j for i, j in zip(x_deviation, y_deviation)]  \n",
    "\n",
    "# Step 4: Compute covariance  \n",
    "cov_xy = sum(deviation_product) / len(x)  \n",
    "\n",
    "# Function to calculate standard deviation  \n",
    "def standard_deviation(values):  \n",
    "    mean_val = np.mean(values)  \n",
    "    squared_deviations = [(i - mean_val) ** 2 for i in values]  \n",
    "    variance = sum(squared_deviations) / len(values)  \n",
    "    return variance ** 0.5  \n",
    "\n",
    "# Step 5: Compute standard deviation of x and y  \n",
    "sd_x = standard_deviation(x)  \n",
    "sd_y = standard_deviation(y)  \n",
    "\n",
    "print(\"Standard Deviation of x:\", sd_x)  \n",
    "print(\"Standard Deviation of y:\", sd_y)  \n",
    "\n",
    "# Step 6: Compute correlation coefficient  \n",
    "correlation = cov_xy / (sd_x * sd_y)  \n",
    "print(\"Correlation Coefficient:\", correlation)  \n"
   ]
  },
  {
   "cell_type": "markdown",
   "id": "1fa3b49d-b141-434f-9283-3520f5da5abc",
   "metadata": {},
   "source": [
    "**Euclidean Distance**\n",
    " - The Euclidean distance is the straight-line distance between two points in a multidimensional space."
   ]
  },
  {
   "cell_type": "markdown",
   "id": "b258489a-147c-4280-998e-9d77aadfce25",
   "metadata": {},
   "source": [
    "<img src=\"//upload.wikimedia.org/wikipedia/commons/thumb/5/55/Euclidean_distance_2d.svg/300px-Euclidean_distance_2d.svg.png\" decoding=\"async\" width=\"300\" height=\"207\" class=\"mw-file-element\" srcset=\"//upload.wikimedia.org/wikipedia/commons/thumb/5/55/Euclidean_distance_2d.svg/450px-Euclidean_distance_2d.svg.png 1.5x, //upload.wikimedia.org/wikipedia/commons/thumb/5/55/Euclidean_distance_2d.svg/600px-Euclidean_distance_2d.svg.png 2x\" data-file-width=\"360\" data-file-height=\"248\">"
   ]
  },
  {
   "cell_type": "code",
   "execution_count": 187,
   "id": "0d33c202-1bc2-47e0-93eb-43b4e15cf912",
   "metadata": {},
   "outputs": [
    {
     "name": "stdout",
     "output_type": "stream",
     "text": [
      "Euclidean Distance: 7.0710678118654755\n"
     ]
    }
   ],
   "source": [
    "# Define the coordinates of two points\n",
    "p = (3, 5)   # (x1, y1)  \n",
    "q = (8, 10)  # (x2, y2)  \n",
    "\n",
    "# Extract x and y coordinates  \n",
    "x1, y1 = p  \n",
    "x2, y2 = q  \n",
    "\n",
    "# Compute the differences  \n",
    "dx = x2 - x1  \n",
    "dy = y2 - y1  \n",
    "\n",
    "# Compute Euclidean distance  \n",
    "euclidean_distance = (dx ** 2 + dy ** 2) ** 0.5  \n",
    "\n",
    "print(\"Euclidean Distance:\", euclidean_distance)  \n"
   ]
  },
  {
   "cell_type": "code",
   "execution_count": 189,
   "id": "7f3e01bb-dd00-4af7-9362-00648bc954ba",
   "metadata": {},
   "outputs": [
    {
     "name": "stdout",
     "output_type": "stream",
     "text": [
      "Euclidean Distance: 7.0710678118654755\n"
     ]
    }
   ],
   "source": [
    "# method-2:\n",
    "# Define points  \n",
    "p = (3, 5)   # (x1, y1)  \n",
    "q = (8, 10)  # (x2, y2)  \n",
    "\n",
    "# Convert points to NumPy arrays  \n",
    "a1 = np.array(p)  \n",
    "a2 = np.array(q)  \n",
    "\n",
    "# Compute Euclidean distance using NumPy  \n",
    "euclidean_distance = np.sqrt(np.sum(np.square(a2 - a1)))  \n",
    "\n",
    "print(\"Euclidean Distance:\", euclidean_distance)  \n"
   ]
  },
  {
   "cell_type": "code",
   "execution_count": 191,
   "id": "6bfea3d5-c7c9-4e6e-b96b-e981cb12a174",
   "metadata": {},
   "outputs": [
    {
     "data": {
      "text/plain": [
       "array([14, 23, 32])"
      ]
     },
     "execution_count": 191,
     "metadata": {},
     "output_type": "execute_result"
    }
   ],
   "source": [
    "np.array([15,25,35])-np.array([1,2,3])"
   ]
  },
  {
   "cell_type": "markdown",
   "id": "edd64bf6-d7e5-4ccb-a48f-93691f0ab262",
   "metadata": {},
   "source": [
    "**Linear Algebra**\n",
    "   - Package Name: numpy\n",
    "   - Class Name: linalg\n",
    "   - Method Name: norm\n",
    "\n",
    "\n",
    "- The norm function in the linalg class of NumPy is used to compute the norm of a vector or matrix. It calculates the magnitude or length of a vector, or the Frobenius norm for matrices."
   ]
  },
  {
   "cell_type": "code",
   "execution_count": 194,
   "id": "e075ea98-d1e9-4b05-8fc9-0abc8fc43d5b",
   "metadata": {},
   "outputs": [
    {
     "name": "stdout",
     "output_type": "stream",
     "text": [
      "Euclidean Distance: 7.0710678118654755\n"
     ]
    }
   ],
   "source": [
    "# Method- 3\n",
    "# Import necessary functions from numpy\n",
    "from numpy.linalg import norm\n",
    "from numpy import var, std, mean\n",
    "import numpy as np\n",
    "\n",
    "# Define points p and q\n",
    "p = (3, 5)   # (x1, y1)\n",
    "q = (8, 10)  # (x2, y2)\n",
    "\n",
    "# Convert points into NumPy arrays\n",
    "a1 = np.array(p)\n",
    "a2 = np.array(q)\n",
    "\n",
    "# Compute the Euclidean distance (norm of the difference)\n",
    "euclidean_distance = np.linalg.norm(a1 - a2)\n",
    "\n",
    "# Print the result\n",
    "print(\"Euclidean Distance:\", euclidean_distance)\n"
   ]
  },
  {
   "cell_type": "markdown",
   "id": "d5c144d3-f1f0-434e-aece-9531159bccf2",
   "metadata": {},
   "source": [
    "**Find the roots**"
   ]
  },
  {
   "cell_type": "code",
   "execution_count": 201,
   "id": "573ca82b-168e-4179-a51b-5287685756a5",
   "metadata": {},
   "outputs": [
    {
     "name": "stdout",
     "output_type": "stream",
     "text": [
      "Roots of the equation: [2. 1.]\n"
     ]
    }
   ],
   "source": [
    "# Define the coefficients of the quadratic equation x^2 - 3x + 2\n",
    "coeff = [1, -3, 2]\n",
    "\n",
    "# Compute the roots of the quadratic equation\n",
    "roots = np.roots(coeff)\n",
    "\n",
    "# Print the roots\n",
    "print(\"Roots of the equation:\", roots)\n"
   ]
  },
  {
   "cell_type": "code",
   "execution_count": null,
   "id": "dee5e6f3-fef1-4951-b720-174ce606b045",
   "metadata": {},
   "outputs": [],
   "source": []
  }
 ],
 "metadata": {
  "kernelspec": {
   "display_name": "Python 3 (ipykernel)",
   "language": "python",
   "name": "python3"
  },
  "language_info": {
   "codemirror_mode": {
    "name": "ipython",
    "version": 3
   },
   "file_extension": ".py",
   "mimetype": "text/x-python",
   "name": "python",
   "nbconvert_exporter": "python",
   "pygments_lexer": "ipython3",
   "version": "3.12.4"
  }
 },
 "nbformat": 4,
 "nbformat_minor": 5
}
